{
 "cells": [
  {
   "cell_type": "code",
   "execution_count": null,
   "metadata": {},
   "outputs": [],
   "source": [
    "import pandas as pd\n",
    "\n",
    "file_path: str = r\"salaries_by_college_major.csv\"\n",
    "df: pd.DataFrame = pd.read_csv(file_path)\n",
    "df.head()"
   ]
  },
  {
   "cell_type": "markdown",
   "metadata": {},
   "source": [
    "#### Cleaning the Data\n"
   ]
  },
  {
   "cell_type": "code",
   "execution_count": null,
   "metadata": {},
   "outputs": [],
   "source": [
    "clean_df: pd.DataFrame = df.drop(50)  # Removing the row with NaN (Not a Number Values)"
   ]
  },
  {
   "cell_type": "markdown",
   "metadata": {},
   "source": [
    "#### College Major with highest Starting salaries\n"
   ]
  },
  {
   "cell_type": "code",
   "execution_count": null,
   "metadata": {},
   "outputs": [],
   "source": [
    "def college_major_with_highest_starting_salaries() -> None:\n",
    "\n",
    "\n",
    "    major_with_highest_starting_salary: pd.Series = clean_df[\"Starting Median Salary\"]\n",
    "\n",
    "    highest_starting_salaries = major_with_highest_starting_salary.max()\n",
    "\n",
    "    lowest_starting_salaries = major_with_highest_starting_salary.min()\n",
    "\n",
    "\n",
    "    name_of_major = clean_df.loc[43, \"Undergraduate Major\"]\n",
    "\n",
    "\n",
    "    print(\n",
    "\n",
    "        f\"Name of Major {name_of_major}\\nMajor with Maximum Salaries {highest_starting_salaries}\\nMajor with lowest Starting Salary {lowest_starting_salaries}\"\n",
    "    )\n",
    "\n",
    "\n",
    "\n",
    "college_major_with_highest_starting_salaries()"
   ]
  },
  {
   "cell_type": "markdown",
   "metadata": {},
   "source": [
    "#### College Major with Highest Mid Career Salary\n"
   ]
  },
  {
   "cell_type": "code",
   "execution_count": null,
   "metadata": {},
   "outputs": [],
   "source": [
    "def College_Major_with_Highest_Mid_Career_Salary() -> None:\n",
    "    index_highest_mid_salary = clean_df[\"Mid-Career Median Salary\"].idxmax()\n",
    "\n",
    "    name: pd.Series = clean_df.loc[8, \"Undergraduate Major\"]\n",
    "    salary = clean_df[\"Mid-Career Median Salary\"].max()\n",
    "\n",
    "    print(f\"Name: {name}\\nSalary: {salary}\")\n",
    "\n",
    "\n",
    "College_Major_with_Highest_Mid_Career_Salary()"
   ]
  },
  {
   "cell_type": "markdown",
   "metadata": {},
   "source": [
    "#### Lowest Starting and mid Career Salary\n"
   ]
  },
  {
   "cell_type": "code",
   "execution_count": null,
   "metadata": {},
   "outputs": [],
   "source": [
    "def lowest_starting_salary() -> None:\n",
    "\n",
    "    min_starting_salary = clean_df[\"Starting Median Salary\"].min()\n",
    "    index_of_min_starting_salary = clean_df[\"Starting Median Salary\"].idxmin()\n",
    "    name: pd.Series = clean_df.loc[index_of_min_starting_salary, \"Undergraduate Major\"]\n",
    "\n",
    "    print(f\"Major Name: {name}\\nSalary: {min_starting_salary}\")\n",
    "\n",
    "\n",
    "def lowest_mid_career_salary() -> None:\n",
    "    # Mid Career Salary\n",
    "    min_starting_salary = clean_df[\"Starting Median Salary\"].min()\n",
    "    index_of_min_starting_salary = clean_df[\"Starting Median Salary\"].idxmin()\n",
    "    name_career: pd.Series = clean_df.loc[\n",
    "        index_of_min_starting_salary, \"Undergraduate Major\"\n",
    "    ]\n",
    "\n",
    "    print(f\"Major Name: {name_career}\\nSalary: {min_starting_salary}\")\n",
    "\n",
    "\n",
    "lowest_starting_salary()\n",
    "lowest_mid_career_salary()"
   ]
  },
  {
   "cell_type": "markdown",
   "metadata": {},
   "source": [
    "#### Lowest Risk Major\n"
   ]
  },
  {
   "cell_type": "code",
   "execution_count": 53,
   "metadata": {},
   "outputs": [
    {
     "name": "stdout",
     "output_type": "stream",
     "text": [
      "Name: Accounting\n"
     ]
    }
   ],
   "source": [
    "def lowest_risk_major() -> None:\n",
    "    \"\"\"This would print the major that have the lowest risk out of all\"\"\"\n",
    "\n",
    "    tenth_percentile_salary = clean_df[\"Mid-Career 10th Percentile Salary\"]\n",
    "    nintheth_percentile_salary = clean_df[\"Mid-Career 90th Percentile Salary\"]\n",
    "    low_risk_major_col = nintheth_percentile_salary.subtract(tenth_percentile_salary)\n",
    "\n",
    "    # Soring the Values\n",
    "    low_risk = clean_df.sort_values(\"Spread\")\n",
    "    x = low_risk.loc[0, \"Undergraduate Major\"]\n",
    "    print(f\"Name: {x}\")\n",
    "\n",
    "\n",
    "lowest_risk_major()"
   ]
  },
  {
   "cell_type": "markdown",
   "metadata": {},
   "source": [
    "<h3>Highest Risk major</h3>\n"
   ]
  },
  {
   "cell_type": "code",
   "execution_count": 59,
   "metadata": {},
   "outputs": [
    {
     "name": "stdout",
     "output_type": "stream",
     "text": [
      "Name: Economics\n"
     ]
    }
   ],
   "source": [
    "def highest_risk_major() -> None:\n",
    "    \"\"\"This would print the major that have the lowest risk out of all\"\"\"\n",
    "\n",
    "    tenth_percentile_salary: pd.Series = clean_df[\"Mid-Career 10th Percentile Salary\"]\n",
    "    nintheth_percentile_salary: pd.Series = clean_df[\n",
    "        \"Mid-Career 90th Percentile Salary\"\n",
    "    ]\n",
    "    high_risk_major_col: int = tenth_percentile_salary.subtract(\n",
    "        nintheth_percentile_salary\n",
    "    ).idxmin()\n",
    "\n",
    "    # Soring the Values\n",
    "    high_risk: pd.Series = clean_df.sort_values(\"Spread\", ascending=False)\n",
    "\n",
    "    x: pd.Series = high_risk.loc[high_risk_major_col, \"Undergraduate Major\"]\n",
    "    print(f\"Name: {x}\")\n",
    "\n",
    "\n",
    "highest_risk_major()"
   ]
  },
  {
   "cell_type": "markdown",
   "metadata": {},
   "source": [
    "#### Top 5 Hightest Potential Degrees\n"
   ]
  },
  {
   "cell_type": "code",
   "execution_count": 70,
   "metadata": {},
   "outputs": [
    {
     "data": {
      "text/html": [
       "<div>\n",
       "<style scoped>\n",
       "    .dataframe tbody tr th:only-of-type {\n",
       "        vertical-align: middle;\n",
       "    }\n",
       "\n",
       "    .dataframe tbody tr th {\n",
       "        vertical-align: top;\n",
       "    }\n",
       "\n",
       "    .dataframe thead th {\n",
       "        text-align: right;\n",
       "    }\n",
       "</style>\n",
       "<table border=\"1\" class=\"dataframe\">\n",
       "  <thead>\n",
       "    <tr style=\"text-align: right;\">\n",
       "      <th></th>\n",
       "      <th>Undergraduate Major</th>\n",
       "    </tr>\n",
       "  </thead>\n",
       "  <tbody>\n",
       "    <tr>\n",
       "      <th>17</th>\n",
       "      <td>Economics</td>\n",
       "    </tr>\n",
       "    <tr>\n",
       "      <th>22</th>\n",
       "      <td>Finance</td>\n",
       "    </tr>\n",
       "    <tr>\n",
       "      <th>8</th>\n",
       "      <td>Chemical Engineering</td>\n",
       "    </tr>\n",
       "    <tr>\n",
       "      <th>37</th>\n",
       "      <td>Math</td>\n",
       "    </tr>\n",
       "    <tr>\n",
       "      <th>44</th>\n",
       "      <td>Physics</td>\n",
       "    </tr>\n",
       "  </tbody>\n",
       "</table>\n",
       "</div>"
      ],
      "text/plain": [
       "     Undergraduate Major\n",
       "17             Economics\n",
       "22               Finance\n",
       "8   Chemical Engineering\n",
       "37                  Math\n",
       "44               Physics"
      ]
     },
     "execution_count": 70,
     "metadata": {},
     "output_type": "execute_result"
    }
   ],
   "source": [
    "def top_5_hightest_potential_degrees() -> pd.DataFrame:\n",
    "\n",
    "    highest_poential_degrees = clean_df.sort_values(\n",
    "        \"Mid-Career 90th Percentile Salary\", ascending=False\n",
    "    )\n",
    "    return highest_poential_degrees[[\"Undergraduate Major\"]].head()\n",
    "\n",
    "\n",
    "top_5_hightest_potential_degrees()"
   ]
  },
  {
   "cell_type": "code",
   "execution_count": null,
   "metadata": {},
   "outputs": [],
   "source": []
  }
 ],
 "metadata": {
  "kernelspec": {
   "display_name": "Python 3",
   "language": "python",
   "name": "python3"
  },
  "language_info": {
   "codemirror_mode": {
    "name": "ipython",
    "version": 3
   },
   "file_extension": ".py",
   "mimetype": "text/x-python",
   "name": "python",
   "nbconvert_exporter": "python",
   "pygments_lexer": "ipython3",
   "version": "3.12.2"
  }
 },
 "nbformat": 4,
 "nbformat_minor": 2
}
